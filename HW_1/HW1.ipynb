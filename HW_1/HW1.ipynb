{
  "nbformat": 4,
  "nbformat_minor": 0,
  "metadata": {
    "colab": {
      "name": "newColabNotebook.ipynb",
      "provenance": [],
      "collapsed_sections": [],
      "authorship_tag": "ABX9TyNViJQrWeGCJU8+Q60dhbEr",
      "include_colab_link": true
    },
    "kernelspec": {
      "name": "python3",
      "display_name": "Python 3"
    }
  },
  "cells": [
    {
      "cell_type": "markdown",
      "metadata": {
        "id": "view-in-github",
        "colab_type": "text"
      },
      "source": [
        "<a href=\"https://colab.research.google.com/github/Zactyz/AI-Repo/blob/master/newColabNotebook.ipynb\" target=\"_parent\"><img src=\"https://colab.research.google.com/assets/colab-badge.svg\" alt=\"Open In Colab\"/></a>"
      ]
    },
    {
      "cell_type": "markdown",
      "metadata": {
        "id": "6Df_q2DIQ5ng",
        "colab_type": "text"
      },
      "source": [
        "# Homework 1 - Zachary Zimmerman\n",
        "### This program inputs and multiplies a list of arrays, skipping over incompatible arrays, which raises an exception.\n",
        "---\n",
        "#####Two matrices are compatible if the width of the first matches the height of the second:"
      ]
    },
    {
      "cell_type": "markdown",
      "metadata": {
        "id": "g60hZfb0S4l5",
        "colab_type": "text"
      },
      "source": [
        "$$\\begin{bmatrix}\n",
        "    a  &  b      \\\\\n",
        "    c  &  d\n",
        "\\end{bmatrix}\n",
        "\\times\n",
        "\\begin{bmatrix}\n",
        "    e  &  f  &  g      \\\\\n",
        "    h  &  i  &  j\n",
        "\\end{bmatrix}\n",
        "=\n",
        "\\begin{bmatrix}\n",
        "    (a \\times e) + (b \\times h)  &  (a \\times f) + (b \\times i)  &  (a \\times g) + (b \\times j)      \\\\\n",
        "    (c \\times e) + (d \\times h)  &  (c \\times f) + (d \\times i)  &  (c \\times g) + (d \\times j)      \\\\\n",
        "\\end{bmatrix}$$"
      ]
    },
    {
      "cell_type": "code",
      "metadata": {
        "id": "Wh5ABkNEwZmb",
        "colab_type": "code",
        "colab": {}
      },
      "source": [
        "import numpy\n",
        "\n",
        "def multiply_matrices(list):\n",
        "  \n",
        "  num_matrices = len(list)\n",
        "  i = 0\n",
        "\n",
        "  if num_matrices < 2:\n",
        "    print(\"Too few matrices as input\")\n",
        "    return\n",
        "\n",
        "  product = list[i]\n",
        "\n",
        "  while i < num_matrices - 1:\n",
        "    x = product\n",
        "    y = list[i+1]\n",
        "\n",
        "    try:\n",
        "      product = numpy.matmul(product, y)\n",
        "      print(str(x) + \" x \" + str(y) + \" = \" + str(product))\n",
        "    except:\n",
        "      print(str(x) + \" and \" + str(y) + \" are incompatible matrices... moving to next matrix instead\")\n",
        "    \n",
        "    i += 1\n",
        "  \n",
        "  print(\"\")\n",
        "  print(\"Final Product = \" + str(product))"
      ],
      "execution_count": 0,
      "outputs": []
    },
    {
      "cell_type": "markdown",
      "metadata": {
        "id": "Gtu8e6PAS8dG",
        "colab_type": "text"
      },
      "source": [
        "## Below is the sample input"
      ]
    },
    {
      "cell_type": "code",
      "metadata": {
        "id": "Svq4tELJNEmt",
        "colab_type": "code",
        "colab": {
          "base_uri": "https://localhost:8080/",
          "height": 170
        },
        "outputId": "eb63c6a8-5c9e-446d-fc59-7ab40fb3b3f5"
      },
      "source": [
        "list = []\n",
        "list.append([[1, 2], [3, 4]])\n",
        "list.append([[1, 2], [3, 4], [5,6]])\n",
        "list.append([[1, 2], [3, 4]])\n",
        "list.append([[5, 6], [5, 6]])\n",
        "\n",
        "multiply_matrices(list)"
      ],
      "execution_count": 31,
      "outputs": [
        {
          "output_type": "stream",
          "text": [
            "[[1, 2], [3, 4]] and [[1, 2], [3, 4], [5, 6]] are incompatible matrices... moving to next matrix instead\n",
            "[[1, 2], [3, 4]] x [[1, 2], [3, 4]] = [[ 7 10]\n",
            " [15 22]]\n",
            "[[ 7 10]\n",
            " [15 22]] x [[5, 6], [5, 6]] = [[ 85 102]\n",
            " [185 222]]\n",
            "\n",
            "Final Product = [[ 85 102]\n",
            " [185 222]]\n"
          ],
          "name": "stdout"
        }
      ]
    }
  ]
}
