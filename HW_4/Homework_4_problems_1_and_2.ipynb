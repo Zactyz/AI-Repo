{
  "nbformat": 4,
  "nbformat_minor": 0,
  "metadata": {
    "colab": {
      "name": "Homework 4 problems 1 and 2",
      "provenance": [],
      "collapsed_sections": [],
      "authorship_tag": "ABX9TyPE0HEFTD+QbgVgVqdKuj+B",
      "include_colab_link": true
    },
    "kernelspec": {
      "name": "python3",
      "display_name": "Python 3"
    }
  },
  "cells": [
    {
      "cell_type": "markdown",
      "metadata": {
        "id": "view-in-github",
        "colab_type": "text"
      },
      "source": [
        "<a href=\"https://colab.research.google.com/github/Zactyz/AI-Repo/blob/master/HW_4/Homework_4_problems_1_and_2.ipynb\" target=\"_parent\"><img src=\"https://colab.research.google.com/assets/colab-badge.svg\" alt=\"Open In Colab\"/></a>"
      ]
    },
    {
      "cell_type": "markdown",
      "metadata": {
        "id": "8p95camS0qQQ",
        "colab_type": "text"
      },
      "source": [
        "#Homework 4 - Zachary Zimmerman"
      ]
    },
    {
      "cell_type": "markdown",
      "metadata": {
        "id": "GPzuL7tf1TVy",
        "colab_type": "text"
      },
      "source": [
        "##Problem 1 - convolutions"
      ]
    },
    {
      "cell_type": "code",
      "metadata": {
        "id": "EuY_ryEe0auB",
        "colab_type": "code",
        "colab": {}
      },
      "source": [
        "import numpy as np\n",
        "\n",
        "#function takes as input input_mat and kernel_mat and outputs desired output_mat.\n",
        "def conv2d(input_mat, kernel_mat):\n",
        "\n",
        "  # assure dimensions are not negative\n",
        "  if input_mat.shape[0] < kernel_mat.shape[0]:\n",
        "    output_mat = []\n",
        "    return output_mat\n",
        "\n",
        "  # dimensions of output\n",
        "  x = input_mat.shape[0] - kernel_mat.shape[0] + 1\n",
        "  y = kernel_mat.shape[0]\n",
        "\n",
        "  # create output matrix using dimensions, filled with zeros\n",
        "  output_mat = np.zeros((x, x))\n",
        "\n",
        "  # use loops to multiply and sum by the kernal\n",
        "  for i in range(x):\n",
        "    for j in range(x):\n",
        "      output_mat[i,j] = np.sum(np.multiply(input_mat[i:i+y, j:j+y], kernel_mat))\n",
        "\n",
        "\n",
        "\n",
        "  return output_mat"
      ],
      "execution_count": 0,
      "outputs": []
    },
    {
      "cell_type": "markdown",
      "metadata": {
        "id": "V5dq7N9m0w-M",
        "colab_type": "text"
      },
      "source": [
        "###Test Cases (provided in assignment)"
      ]
    },
    {
      "cell_type": "code",
      "metadata": {
        "id": "XVbHXsjh00fh",
        "colab_type": "code",
        "outputId": "0f96e201-f005-491f-86e9-58243103e1d6",
        "colab": {
          "base_uri": "https://localhost:8080/",
          "height": 358
        }
      },
      "source": [
        "from scipy import signal\n",
        "import numpy as np\n",
        "\n",
        "input_mat = []\n",
        "kernel_mat = []\n",
        "expected_mat = []\n",
        "\n",
        "# test case 1\n",
        "input_mat.append(np.array([[1, 2, 1, 2],\n",
        "                      [2, 1, 2, 1],\n",
        "                      [1, 2, 1, 2],\n",
        "                      [2, 1, 2, 1]]))\n",
        "\n",
        "kernel_mat.append(np.array([[1, 0],\n",
        "                       [0, 1]]))\n",
        "\n",
        "expected_mat.append(np.array([[2, 4, 2],\n",
        "                                [4, 2, 4],\n",
        "                                [2, 4, 2]]))\n",
        "\n",
        "# test case 2\n",
        "input_mat.append(np.array([[1, 0, 0, 0],\n",
        "                      [0, 1, 0, 0],\n",
        "                      [0, 0, 1, 0],\n",
        "                      [0, 0, 0, 1]]))\n",
        "kernel_mat.append(np.array([[1, 0], [0, 1]]))\n",
        "expected_mat.append(np.array([[2, 0, 0], [0, 2, 0], [0, 0, 2]]))\n",
        "\n",
        "\n",
        "# test case 3\n",
        "input_mat.append(np.array([[1, 0, 0, 0],\n",
        "                      [0, 1, 0, 0],\n",
        "                      [0, 0, 1, 0],\n",
        "                      [0, 0, 0, 1]]))\n",
        "kernel_mat.append(np.array([[1, -1],\n",
        "                       [-1, 0]]))\n",
        "\n",
        "expected_mat.append(np.array([[ 1, -1,  0], [-1,  1, -1],[ 0, -1,  1]]))\n",
        "\n",
        "\n",
        "# test case 4\n",
        "input_mat.append(np.array([[1, 0, 0, 0],\n",
        "                      [0, 1, 0, 0],\n",
        "                      [0, 0, 1, 0],\n",
        "                      [0, 0, 0, 1]]))\n",
        "kernel_mat.append(np.array([[1, 0, 0, 0],\n",
        "                      [0, 1, 0, 0],\n",
        "                      [0, 0, 1, 0],\n",
        "                      [0, 0, 0, 1]]))\n",
        "\n",
        "expected_mat.append(np.array([[4]]))\n",
        "\n",
        "\n",
        "# test case 5 - should either through an error, or return empty matrix\n",
        "input_mat.append(np.array([[1, -1],\n",
        "                       [-1, 0]]))\n",
        "kernel_mat.append(np.array([[1, 0, 0, 0],\n",
        "                      [0, 1, 0, 0],\n",
        "                      [0, 0, 1, 0],\n",
        "                      [0, 0, 0, 1]]))\n",
        "\n",
        "expected_mat.append([])\n",
        "\n",
        "\n",
        "\n",
        "for i in range(len(input_mat)):\n",
        "  # uncomment line for student code testing\n",
        "  output_mat = conv2d(input_mat[i], kernel_mat[i])\n",
        "\n",
        "  # uncomment lines below (and comment line above) for generating test cases.\n",
        "  #if input_mat[i].shape[0] < kernel_mat[i].shape[0]:\n",
        "    #output_mat = []\n",
        "  #else:\n",
        "    #output_mat = signal.convolve2d(input_mat[i], kernel_mat[i], mode='valid')\n",
        "\n",
        "  print(output_mat)\n",
        "  if np.array_equal(output_mat, expected_mat[i]):\n",
        "    print(\"Correct output!\\n\")\n",
        "  else:\n",
        "    print(\"Incorrect output!\\n\")\n"
      ],
      "execution_count": 0,
      "outputs": [
        {
          "output_type": "stream",
          "text": [
            "[[2. 4. 2.]\n",
            " [4. 2. 4.]\n",
            " [2. 4. 2.]]\n",
            "Correct output!\n",
            "\n",
            "[[2. 0. 0.]\n",
            " [0. 2. 0.]\n",
            " [0. 0. 2.]]\n",
            "Correct output!\n",
            "\n",
            "[[ 1. -1.  0.]\n",
            " [-1.  1. -1.]\n",
            " [ 0. -1.  1.]]\n",
            "Correct output!\n",
            "\n",
            "[[4.]]\n",
            "Correct output!\n",
            "\n",
            "[]\n",
            "Correct output!\n",
            "\n"
          ],
          "name": "stdout"
        }
      ]
    },
    {
      "cell_type": "markdown",
      "metadata": {
        "id": "wJ_eDzIE7Eb_",
        "colab_type": "text"
      },
      "source": [
        "##Problem 2 - max pooling"
      ]
    },
    {
      "cell_type": "code",
      "metadata": {
        "id": "bRuqOx_17Gtq",
        "colab_type": "code",
        "colab": {}
      },
      "source": [
        "import numpy as np\n",
        "\n",
        "# function that takes as input input_mat and s and outputs desired output_mat using max pooling operation\n",
        "def maxpooling2d(input_mat, s):\n",
        "\n",
        "  # check if input_mat is not square, and add 0s to make square\n",
        "  if input_mat.shape[0] != input_mat.shape[1]:\n",
        "    if input_mat.shape[0] - input_mat.shape[1] > 0:\n",
        "      pad = np.zeros(input_mat.shape[1])\n",
        "      input_mat = np.column_stack((input_mat, pad))\n",
        "    elif input_mat.shape[0] - input_mat.shape[1] < 0:\n",
        "      pad = np.zeros(input_mat.shape[1])\n",
        "      input_mat = np.vstack((input_mat, pad))\n",
        "  \n",
        "  # add 0s using s if uneven\n",
        "  pad = input_mat.shape[0] % s\n",
        "  input_mat = np.pad(input_mat, pad)\n",
        "\n",
        "  # create output_mat\n",
        "  output_dim = (int(input_mat.shape[0]/s), int(input_mat.shape[0]/s))\n",
        "  output_mat = np.zeros(output_dim)\n",
        "  \n",
        "  for i in range(0, input_mat.shape[0], s):\n",
        "    for j in range(0, input_mat.shape[0], s):\n",
        "      x = int(i/s)\n",
        "      y = int(j/s)\n",
        "\n",
        "      output_mat[x][y] = np.max(input_mat[i:i+s, j:j+s])\n",
        "\n",
        "  return output_mat"
      ],
      "execution_count": 0,
      "outputs": []
    },
    {
      "cell_type": "markdown",
      "metadata": {
        "id": "kfOobmbi7IzA",
        "colab_type": "text"
      },
      "source": [
        "###Test Cases (provided in assignment)"
      ]
    },
    {
      "cell_type": "code",
      "metadata": {
        "id": "UWf0KaPA7NPf",
        "colab_type": "code",
        "outputId": "09880546-b2a3-4838-8eea-87b1f9bb19b6",
        "colab": {
          "base_uri": "https://localhost:8080/",
          "height": 131
        }
      },
      "source": [
        "import skimage.measure\n",
        "\n",
        "input_mat = []\n",
        "expected_mat = []\n",
        "s = []\n",
        "input_mat.append(np.array([[1, 2, 1, 2],\n",
        "                      [2, 4, 2, 1],\n",
        "                      [1, 2, 4, 2],\n",
        "                      [2, 1, 2, 1]]))\n",
        "s.append(2)\n",
        "\n",
        "expected_mat.append(np.array([[4, 2],\n",
        "                                [2, 4]]))\n",
        "\n",
        "input_mat.append(np.array([[1, 2, 1, 2, 4, 5],\n",
        "                      [2, 4, 2, 1, 0, 3],\n",
        "                      [1, 2, 4, 2, 4, 5],\n",
        "                      [2, 1, 2, 1, 2, 1],\n",
        "                      [1, 1, 2, 3, 1, 2]]))\n",
        "s.append(2)\n",
        "\n",
        "expected_mat.append([[4, 2, 5],\n",
        " [2, 4, 5],\n",
        " [1, 3, 2]])\n",
        "\n",
        "\n",
        "for i in range(len(input_mat)):\n",
        "  # uncomment top line and comment second line to test code\n",
        "  output_mat = maxpooling2d(input_mat[i], s[i])\n",
        "  #output_mat = skimage.measure.block_reduce(input_mat[i], (s[i],s[i]), np.max)\n",
        "\n",
        "  print(output_mat)\n",
        "\n",
        "  if np.array_equal(output_mat, expected_mat[i]):\n",
        "    print(\"Correct output!\")\n",
        "  else:\n",
        "    print(\"Incorrect output!\")\n"
      ],
      "execution_count": 0,
      "outputs": [
        {
          "output_type": "stream",
          "text": [
            "[[4. 2.]\n",
            " [2. 4.]]\n",
            "Correct output!\n",
            "[[4. 2. 5.]\n",
            " [2. 4. 5.]\n",
            " [1. 3. 2.]]\n",
            "Correct output!\n"
          ],
          "name": "stdout"
        }
      ]
    }
  ]
}