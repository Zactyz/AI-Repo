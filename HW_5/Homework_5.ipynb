{
  "nbformat": 4,
  "nbformat_minor": 0,
  "metadata": {
    "colab": {
      "name": "Homework 5.ipynb",
      "provenance": [],
      "collapsed_sections": [],
      "authorship_tag": "ABX9TyOgX8hwy+Gd2I5cturrTBdV",
      "include_colab_link": true
    },
    "kernelspec": {
      "name": "python3",
      "display_name": "Python 3"
    }
  },
  "cells": [
    {
      "cell_type": "markdown",
      "metadata": {
        "id": "view-in-github",
        "colab_type": "text"
      },
      "source": [
        "<a href=\"https://colab.research.google.com/github/Zactyz/AI-Repo/blob/master/HW_5/Homework_5.ipynb\" target=\"_parent\"><img src=\"https://colab.research.google.com/assets/colab-badge.svg\" alt=\"Open In Colab\"/></a>"
      ]
    },
    {
      "cell_type": "markdown",
      "metadata": {
        "id": "g45VrTw-IZyo",
        "colab_type": "text"
      },
      "source": [
        "#Homework 5 - Zachary Zimmerman"
      ]
    },
    {
      "cell_type": "markdown",
      "metadata": {
        "id": "gTaNeEqZIgsN",
        "colab_type": "text"
      },
      "source": [
        "#General Concepts"
      ]
    },
    {
      "cell_type": "markdown",
      "metadata": {
        "id": "ZfnV7LxTIzNj",
        "colab_type": "text"
      },
      "source": [
        "##Artificial Intelligence"
      ]
    },
    {
      "cell_type": "markdown",
      "metadata": {
        "id": "yLXl_5dQJ-tZ",
        "colab_type": "text"
      },
      "source": [
        "Artificial intelligence, or AI, is something that we often hear about in movies refering to evil super computers or other unrealistic scenarios. But what is it really? \n",
        "\n",
        "Artificial intelligence is the science in which a machine can be built that is \"intelligent.\" This means the device can analyze its environment, adapt to problems it is presented with, and create the best odds for suxccessfully achieving its goals. These intelligent machines are as close as possible to copying the learning function of the human brain."
      ]
    },
    {
      "cell_type": "markdown",
      "metadata": {
        "id": "7KmP-DGeI5AM",
        "colab_type": "text"
      },
      "source": [
        "##Machine Learning"
      ]
    },
    {
      "cell_type": "markdown",
      "metadata": {
        "id": "VuscXcOUK_SK",
        "colab_type": "text"
      },
      "source": [
        "Machine learning falls closely related to Artificial intelligence, and in fact is part of that science. Machine learning is what allows computers to \"learn\" from their surroundings, from the information provided to them, without being programmed for each and every part. This learning is what allows the computer to be intelligent. \n",
        "\n",
        "Interestingly, there are different factions of this machine learning. There is supervised, in which the system is trained to recognize certain functions and make predictions. Unsupervised and semi-supervised have less explicit intructions and allow the computer a bit more freesom with unlabeled input data. Finally, Reinforcement learning is much more like a trial and error type learning environment for the computer, with reward feedback. "
      ]
    },
    {
      "cell_type": "markdown",
      "metadata": {
        "id": "SMhTklV8I81B",
        "colab_type": "text"
      },
      "source": [
        "##Deep Learning"
      ]
    },
    {
      "cell_type": "markdown",
      "metadata": {
        "id": "YeAMzF9DLdYY",
        "colab_type": "text"
      },
      "source": [
        "Deep learning is, like machine learning, another subset of AI. Deep learning, in contrast to machine learning, works on and analyzes a **full** artificial neural network from higher level, raw input. Deep learning of learning, also, can be supervised, semi-supervised or unsupervised. This type of AI is the most similar to the processes performed by the human brain."
      ]
    },
    {
      "cell_type": "markdown",
      "metadata": {
        "id": "w3T6VCKQI_NS",
        "colab_type": "text"
      },
      "source": [
        "#Basic Concepts"
      ]
    },
    {
      "cell_type": "markdown",
      "metadata": {
        "id": "40FH4_IdJDcJ",
        "colab_type": "text"
      },
      "source": [
        "##Linear Regression"
      ]
    },
    {
      "cell_type": "markdown",
      "metadata": {
        "id": "iKArNbTSq_qg",
        "colab_type": "text"
      },
      "source": [
        "Linear Regression, though daunting for me at first glance, is actually a very simple but useful Statistical Data Analysis technique. Linear regression is used to model the linear relationship between a dependent variable and one or more independent variables. It is useful for predicting and explaining variation in observed data collection."
      ]
    },
    {
      "cell_type": "markdown",
      "metadata": {
        "id": "62I_BOGQsKvc",
        "colab_type": "text"
      },
      "source": [
        "In its simplest form, linear regression is represented by the equation: $y = mx + b$\n",
        "\n",
        "If multidimentional, the equation becomes: $ \\hat y = b + w_1 x_1 + w_2 x_2 + ... + w_n x_n $"
      ]
    },
    {
      "cell_type": "markdown",
      "metadata": {
        "id": "OicAYNCxthSJ",
        "colab_type": "text"
      },
      "source": [
        "##Creating a Linear Regression Model (Keras)"
      ]
    },
    {
      "cell_type": "code",
      "metadata": {
        "id": "pArleHS1tljI",
        "colab_type": "code",
        "outputId": "b5864e60-255e-446b-c9b9-7cdfdb5090b5",
        "colab": {
          "base_uri": "https://localhost:8080/",
          "height": 180
        }
      },
      "source": [
        "import numpy as np\n",
        "import tensorflow as tf\n",
        "import tensorflow.keras as keras\n",
        "import matplotlib.pyplot as plt\n",
        "from sklearn.model_selection import train_test_split\n",
        "\n",
        "m = 100\n",
        "x = 2 * np.random.rand(m, 1)\n",
        "y = 6 + 8 * x + np.random.rand(m, 1)\n",
        "\n",
        "x_training, x_testing, y_training, y_testing = train_test_split(x, y, test_size=0.2, shuffle=True)\n",
        "\n",
        "model = keras.Sequential()\n",
        "model.add(tf.keras.layers.Dense(1, input_dim=1, activation='sigmoid'))\n",
        "optimizer = tf.keras.optimizers.Adam(learning_rate=0.5)\n",
        "    \n",
        "model.compile(loss=tf.keras.losses.BinaryCrossentropy(), optimizer=optimizer)\n",
        "\n",
        "history = model.fit(x_training, y_training, epochs=5)"
      ],
      "execution_count": 56,
      "outputs": [
        {
          "output_type": "stream",
          "text": [
            "Epoch 1/5\n",
            "3/3 [==============================] - 0s 3ms/step - loss: -7.3665\n",
            "Epoch 2/5\n",
            "3/3 [==============================] - 0s 2ms/step - loss: -52.8979\n",
            "Epoch 3/5\n",
            "3/3 [==============================] - 0s 1ms/step - loss: -101.4453\n",
            "Epoch 4/5\n",
            "3/3 [==============================] - 0s 2ms/step - loss: -147.7621\n",
            "Epoch 5/5\n",
            "3/3 [==============================] - 0s 1ms/step - loss: -194.5627\n"
          ],
          "name": "stdout"
        }
      ]
    },
    {
      "cell_type": "markdown",
      "metadata": {
        "id": "1nlkgWKBu4Kt",
        "colab_type": "text"
      },
      "source": [
        "###Extracting Data, Plotting, and Drawing Prediction Line"
      ]
    },
    {
      "cell_type": "markdown",
      "metadata": {
        "id": "2aC-nDe6w7wF",
        "colab_type": "text"
      },
      "source": [
        "Using the Linear Regression model, the data can be plotted for visualization, from which the prediction line can be formulated. This line is of the form:  $\\hat y = wx + b$"
      ]
    },
    {
      "cell_type": "code",
      "metadata": {
        "id": "PSpAALilvF2e",
        "colab_type": "code",
        "outputId": "c5b5326c-2aad-4055-be02-fd1e07e910e0",
        "colab": {
          "base_uri": "https://localhost:8080/",
          "height": 265
        }
      },
      "source": [
        "weights = model.get_weights()\n",
        "\n",
        "fig, ax = plt.subplots()\n",
        "ax.plot(np.linspace(0, max(x)), np.linspace(0, max(x)) * weights[0] + weights[1], color='red')\n",
        "ax.scatter(x,y, color='blue', alpha=0.5)\n",
        "\n",
        "plt.show()"
      ],
      "execution_count": 57,
      "outputs": [
        {
          "output_type": "display_data",
          "data": {
            "image/png": "[encoded data removed]",
            "text/plain": [
              "<Figure size 432x288 with 1 Axes>"
            ]
          },
          "metadata": {
            "tags": [],
            "needs_background": "light"
          }
        }
      ]
    },
    {
      "cell_type": "markdown",
      "metadata": {
        "id": "WyWa5UjMJGuo",
        "colab_type": "text"
      },
      "source": [
        "##Logistic Regression"
      ]
    },
    {
      "cell_type": "markdown",
      "metadata": {
        "id": "g2V67V_OzEbW",
        "colab_type": "text"
      },
      "source": [
        "Logistic Regression is another statistical model which uses a logistic function to model a binary dependent variable. This type of regression is useful for estimating the paramerters of a logistic model, calculating the probability of certain event outcomes. This can be used, for example, to determine if an image contains a certain object, etc. "
      ]
    },
    {
      "cell_type": "markdown",
      "metadata": {
        "id": "lnPbk849zm-9",
        "colab_type": "text"
      },
      "source": [
        "The model bases outcomes on the equation:  $ \\hat y = \\sigma (b + w_1 x_1 + w_2 x_2 + ... + w_n x_n )$\n",
        "\n",
        "The following is an example using this model."
      ]
    },
    {
      "cell_type": "markdown",
      "metadata": {
        "id": "GnuENrSY5SzM",
        "colab_type": "text"
      },
      "source": [
        "##Creating a Logistic Regression Model"
      ]
    },
    {
      "cell_type": "code",
      "metadata": {
        "id": "NWPPzPDdz0N2",
        "colab_type": "code",
        "outputId": "a7a81ad9-7539-4015-ac8d-398dea52a3f9",
        "colab": {
          "base_uri": "https://localhost:8080/",
          "height": 373
        }
      },
      "source": [
        "import array as ar\n",
        "\n",
        "def get_random_data(w, b, mu, sigma, m):\n",
        "\n",
        "  data = np.empty([m, 2])\n",
        "  labels = np.empty([m, 1])\n",
        "\n",
        "  for i in range(0, m-1):\n",
        "    n = np.random.default_rng().normal(mu, sigma)\n",
        "    c = np.random.randint(0, 2)\n",
        "    x_1 = np.random.default_rng().uniform(0, 1)\n",
        "    x_2 = w * x_1 + b + (-1) ** c * n\n",
        "    data[i, 0] = x_1\n",
        "    data[i, 1] = x_2\n",
        "    labels[i] = c\n",
        "\n",
        "  return labels, data;\n",
        "\n",
        "def display_random_data(labels, data):\n",
        "  for i in range(0, len(data)):\n",
        "    if ((labels[i] == 0)):\n",
        "      plt.plot(data[i, 0], data[i, 1], 'bo')\n",
        "    else:\n",
        "      plt.plot(data[i, 0], data[i, 1], 'ro')\n",
        "\n",
        "w = 20\n",
        "b = 10\n",
        "mu = 20\n",
        "sigma = 8\n",
        "m = 1000\n",
        "plt.subplots(figsize=(6,6))\n",
        "labels, data = get_random_data(w, b, mu, sigma, m)\n",
        "display_random_data(labels, data);"
      ],
      "execution_count": 52,
      "outputs": [
        {
          "output_type": "display_data",
          "data": {
            "image/png": "[encoded data removed]",
            "text/plain": [
              "<Figure size 432x432 with 1 Axes>"
            ]
          },
          "metadata": {
            "tags": [],
            "needs_background": "light"
          }
        }
      ]
    },
    {
      "cell_type": "markdown",
      "metadata": {
        "id": "lUHx2nmp52Hw",
        "colab_type": "text"
      },
      "source": [
        "##Training a Model (Keras)"
      ]
    },
    {
      "cell_type": "markdown",
      "metadata": {
        "id": "iNvnwJE36N4S",
        "colab_type": "text"
      },
      "source": [
        "When training a model, the data that was collected is essentially mapping the model features to the labels, so that it can be evaluated to make predictions about future related data.\n",
        "\n",
        "A model needs to be flexible while still accounting for the right amount of data. \n",
        "\n",
        "**Underfitting** is caused by the model not accounting for enough of the data and creating a prediction line which has little to no consideration of the data. This will lead to a high training and high testing error. \n",
        "\n",
        "**Overfitting** on the other hand memorizes all parts of the data, accounting for too much, and cannot then form an idea of a relationship within the data. This will lead to an extremely low training error but a high testing error.\n",
        "\n",
        "Finding the in-between balance is important in training a model. below is an example of this process."
      ]
    },
    {
      "cell_type": "code",
      "metadata": {
        "id": "wr6zBK8r0VtY",
        "colab_type": "code",
        "colab": {}
      },
      "source": [
        "#split into training and testing\n",
        "\n",
        "def split_data(labels, data):\n",
        "  training = int(0.8 * len(data))\n",
        "  test = int(0.2 * len(data))\n",
        "\n",
        "  data_training = np.empty([training, 2])\n",
        "  data_test = np.empty([test, 2])\n",
        "  labels_training = np.empty([training, 1])\n",
        "  labels_test = np.empty([test, 1])\n",
        "\n",
        "  for i in range(0, len(data)):\n",
        "    if (i<training):\n",
        "      data_training[i] = data[i]\n",
        "      labels_training[i] = labels[i]\n",
        "    else:\n",
        "      data_test[len(data) - i - 1] = data[i]\n",
        "      labels_test[len(data) - i - 1] = labels[i]\n",
        "\n",
        "\n",
        "  return data_training, data_test, labels_training, labels_test\n",
        "\n",
        "data_training, data_test, labels_training, labels_test = split_data(labels, data)"
      ],
      "execution_count": 0,
      "outputs": []
    },
    {
      "cell_type": "markdown",
      "metadata": {
        "id": "ADw6wTulGS7K",
        "colab_type": "text"
      },
      "source": [
        "##Comping the Model (Keras)"
      ]
    },
    {
      "cell_type": "code",
      "metadata": {
        "id": "JL9s321Q1KXT",
        "colab_type": "code",
        "outputId": "c8b28182-40ae-4bef-bdaa-21839d9202bd",
        "colab": {
          "base_uri": "https://localhost:8080/",
          "height": 1000
        }
      },
      "source": [
        "#implement Keras\n",
        "\n",
        "import tensorflow as tf\n",
        "from tensorflow import keras\n",
        "from tensorflow.keras import layers\n",
        "%tensorflow_version 2.x\n",
        "\n",
        "features = 2\n",
        "output = 1\n",
        "learning_rate=.01\n",
        "\n",
        "model = keras.Sequential()\n",
        "model.add(tf.keras.layers.Dense(output, input_dim=features, activation='sigmoid'))\n",
        "optimizer = tf.keras.optimizers.Adam(learning_rate=learning_rate)\n",
        "    \n",
        "model.compile(loss=tf.keras.losses.BinaryCrossentropy(), optimizer=optimizer)\n",
        "\n",
        "history = model.fit(data_training, labels_training, epochs=40)\n",
        "\n",
        "weights = model.get_weights()\n",
        "\n",
        "print(\"\")\n",
        "print(\"weight shape: \", weights[0].shape)\n",
        "print(\"bias term shape: \", weights[1].shape)"
      ],
      "execution_count": 0,
      "outputs": [
        {
          "output_type": "stream",
          "text": [
            "Epoch 1/40\n",
            "25/25 [==============================] - 0s 1ms/step - loss: 1.0111\n",
            "Epoch 2/40\n",
            "25/25 [==============================] - 0s 994us/step - loss: 0.5254\n",
            "Epoch 3/40\n",
            "25/25 [==============================] - 0s 1ms/step - loss: 0.2423\n",
            "Epoch 4/40\n",
            "25/25 [==============================] - 0s 1ms/step - loss: 0.2018\n",
            "Epoch 5/40\n",
            "25/25 [==============================] - 0s 1ms/step - loss: 0.1751\n",
            "Epoch 6/40\n",
            "25/25 [==============================] - 0s 1ms/step - loss: 0.1555\n",
            "Epoch 7/40\n",
            "25/25 [==============================] - 0s 1ms/step - loss: 0.1395\n",
            "Epoch 8/40\n",
            "25/25 [==============================] - 0s 1ms/step - loss: 0.1263\n",
            "Epoch 9/40\n",
            "25/25 [==============================] - 0s 926us/step - loss: 0.1154\n",
            "Epoch 10/40\n",
            "25/25 [==============================] - 0s 980us/step - loss: 0.1065\n",
            "Epoch 11/40\n",
            "25/25 [==============================] - 0s 1ms/step - loss: 0.0984\n",
            "Epoch 12/40\n",
            "25/25 [==============================] - 0s 995us/step - loss: 0.0919\n",
            "Epoch 13/40\n",
            "25/25 [==============================] - 0s 1ms/step - loss: 0.0863\n",
            "Epoch 14/40\n",
            "25/25 [==============================] - 0s 1ms/step - loss: 0.0813\n",
            "Epoch 15/40\n",
            "25/25 [==============================] - 0s 985us/step - loss: 0.0767\n",
            "Epoch 16/40\n",
            "25/25 [==============================] - 0s 959us/step - loss: 0.0729\n",
            "Epoch 17/40\n",
            "25/25 [==============================] - 0s 1ms/step - loss: 0.0696\n",
            "Epoch 18/40\n",
            "25/25 [==============================] - 0s 949us/step - loss: 0.0663\n",
            "Epoch 19/40\n",
            "25/25 [==============================] - 0s 1ms/step - loss: 0.0639\n",
            "Epoch 20/40\n",
            "25/25 [==============================] - 0s 948us/step - loss: 0.0612\n",
            "Epoch 21/40\n",
            "25/25 [==============================] - 0s 1ms/step - loss: 0.0588\n",
            "Epoch 22/40\n",
            "25/25 [==============================] - 0s 1ms/step - loss: 0.0576\n",
            "Epoch 23/40\n",
            "25/25 [==============================] - 0s 1ms/step - loss: 0.0549\n",
            "Epoch 24/40\n",
            "25/25 [==============================] - 0s 1ms/step - loss: 0.0534\n",
            "Epoch 25/40\n",
            "25/25 [==============================] - 0s 1ms/step - loss: 0.0514\n",
            "Epoch 26/40\n",
            "25/25 [==============================] - 0s 1ms/step - loss: 0.0504\n",
            "Epoch 27/40\n",
            "25/25 [==============================] - 0s 1ms/step - loss: 0.0507\n",
            "Epoch 28/40\n",
            "25/25 [==============================] - 0s 928us/step - loss: 0.0475\n",
            "Epoch 29/40\n",
            "25/25 [==============================] - 0s 998us/step - loss: 0.0466\n",
            "Epoch 30/40\n",
            "25/25 [==============================] - 0s 937us/step - loss: 0.0447\n",
            "Epoch 31/40\n",
            "25/25 [==============================] - 0s 1ms/step - loss: 0.0444\n",
            "Epoch 32/40\n",
            "25/25 [==============================] - 0s 1ms/step - loss: 0.0433\n",
            "Epoch 33/40\n",
            "25/25 [==============================] - 0s 1ms/step - loss: 0.0424\n",
            "Epoch 34/40\n",
            "25/25 [==============================] - 0s 1ms/step - loss: 0.0410\n",
            "Epoch 35/40\n",
            "25/25 [==============================] - 0s 1ms/step - loss: 0.0402\n",
            "Epoch 36/40\n",
            "25/25 [==============================] - 0s 1ms/step - loss: 0.0396\n",
            "Epoch 37/40\n",
            "25/25 [==============================] - 0s 1ms/step - loss: 0.0389\n",
            "Epoch 38/40\n",
            "25/25 [==============================] - 0s 992us/step - loss: 0.0387\n",
            "Epoch 39/40\n",
            "25/25 [==============================] - 0s 1ms/step - loss: 0.0384\n",
            "Epoch 40/40\n",
            "25/25 [==============================] - 0s 983us/step - loss: 0.0368\n",
            "\n",
            "weight shape:  (2, 1)\n",
            "bias term shape:  (1,)\n"
          ],
          "name": "stdout"
        }
      ]
    },
    {
      "cell_type": "code",
      "metadata": {
        "id": "oMU1UeTp1Tvz",
        "colab_type": "code",
        "outputId": "ee6a009c-32e8-43a5-a25a-1860ef73274d",
        "colab": {
          "base_uri": "https://localhost:8080/",
          "height": 390
        }
      },
      "source": [
        "#obtain seperating line\n",
        "\n",
        "line = np.linspace(0, 1)\n",
        "\n",
        "# we will use our equation for the line, based on the weights\n",
        "predictedLine = -((weights[0][0] * line) + weights[1]) / weights[0][1]\n",
        "trueLine = w * line + b\n",
        "\n",
        "fig, plt.subplots(figsize=(6,6))\n",
        "plt.plot(line, predictedLine, color='green', label='predicted line')\n",
        "plt.plot(line, trueLine, color='blue', label='true line')\n",
        "\n",
        "for i in range(0, len(data)):\n",
        "    if ((labels[i] == 0)):\n",
        "      plt.plot(data[i, 0], data[i, 1], 'bo')\n",
        "    else:\n",
        "      plt.plot(data[i, 0], data[i, 1], 'ro')\n",
        "\n",
        "plt.legend()"
      ],
      "execution_count": 0,
      "outputs": [
        {
          "output_type": "execute_result",
          "data": {
            "text/plain": [
              "<matplotlib.legend.Legend at 0x7f57a3267240>"
            ]
          },
          "metadata": {
            "tags": []
          },
          "execution_count": 47
        },
        {
          "output_type": "display_data",
          "data": {
            "image/png": "[encoded data removed]",
            "text/plain": [
              "<Figure size 432x432 with 1 Axes>"
            ]
          },
          "metadata": {
            "tags": [],
            "needs_background": "light"
          }
        }
      ]
    },
    {
      "cell_type": "markdown",
      "metadata": {
        "id": "PlWEt1nAJNEQ",
        "colab_type": "text"
      },
      "source": [
        "##Gradient Descent"
      ]
    },
    {
      "cell_type": "markdown",
      "metadata": {
        "id": "2y-eE_D02ATk",
        "colab_type": "text"
      },
      "source": [
        "Gradient descent is another algorithm within the realm of artificial intelligence. This one is used to minimize functions by iteratively finding the steepest decent using the negative of the gradient. This is used as an optimization algorithm to find the best or fastest path in solving a problem.\n",
        "\n",
        "This algorithm uses the equation $ w = w \\pm \\alpha * \\frac{\\delta L}{\\delta w}$ with variable $\\alpha$ being the learning rate"
      ]
    },
    {
      "cell_type": "markdown",
      "metadata": {
        "id": "5f5Fc-c33F22",
        "colab_type": "text"
      },
      "source": [
        "The following is a simple implementation of this algorithm, which uses gradient descent to find the minimum of a function"
      ]
    },
    {
      "cell_type": "code",
      "metadata": {
        "id": "oZpGkIvi3Czi",
        "colab_type": "code",
        "outputId": "e310e8ff-9dad-4f33-8da5-90e9c6e1f797",
        "colab": {
          "base_uri": "https://localhost:8080/",
          "height": 33
        }
      },
      "source": [
        "next_x = 6\n",
        "gamma = 0.01\n",
        "precision = 0.00001\n",
        "max_iters = 10000  \n",
        "\n",
        "# Derivative function\n",
        "def df(x):\n",
        "    return 4 * x ** 3 - 9 * x ** 2\n",
        "\n",
        "\n",
        "for _ in range(max_iters):\n",
        "    current_x = next_x\n",
        "    next_x = current_x - gamma * df(current_x)\n",
        "\n",
        "    step = next_x - current_x\n",
        "    if abs(step) <= precision:\n",
        "        break\n",
        "\n",
        "print(\"Minimum at \", next_x)"
      ],
      "execution_count": 0,
      "outputs": [
        {
          "output_type": "stream",
          "text": [
            "Minimum at  2.2499646074278457\n"
          ],
          "name": "stdout"
        }
      ]
    },
    {
      "cell_type": "markdown",
      "metadata": {
        "id": "ajbr95T2JfwM",
        "colab_type": "text"
      },
      "source": [
        "##Optimizers"
      ]
    },
    {
      "cell_type": "markdown",
      "metadata": {
        "id": "udLmu3AL5Ge0",
        "colab_type": "text"
      },
      "source": [
        "Optimizers are functions which help in gradient descent and other computing functions during the training process. These functions tie together the loss function and model praramenters to update the model automatically based on the output. Essentially, the optimizers shape and mold a model to the most accurate possible form."
      ]
    },
    {
      "cell_type": "markdown",
      "metadata": {
        "id": "B22ve9niJicT",
        "colab_type": "text"
      },
      "source": [
        "##Learning Rate"
      ]
    },
    {
      "cell_type": "markdown",
      "metadata": {
        "id": "bA55k_I_3-np",
        "colab_type": "text"
      },
      "source": [
        "Learning rate is an important part of Artificial Intelligence programming, as it deals with the speed and variability of learning a program does. The learning rate is a hyperparameter that controls how much a model will alter in accordance to estimated errors when the weights are updated. Using the right learning rate is vital, because a learning rate too small could halt the learning process, while one too large could lead to an unstable or inaccurate training process.\n",
        "\n",
        "The weight is updated by its gradient multiplied by the learning rate. $w = w - \\alpha * \\frac{\\delta L}{\\delta w}$"
      ]
    },
    {
      "cell_type": "markdown",
      "metadata": {
        "id": "uxRn0XWhJr5j",
        "colab_type": "text"
      },
      "source": [
        "#Finetuning a Pretrained Model"
      ]
    },
    {
      "cell_type": "markdown",
      "metadata": {
        "id": "0nga1EEkCoxq",
        "colab_type": "text"
      },
      "source": [
        "Finetuning a model is process by which a new model is produced from an existing, trained model. This new model is then used to train different data sets in different settings. This technique helps avoid working with the entirety of huge amounts of data which would require massive amounts of computing power, and instead allows a much smaller amount of data to be trained, and not from scratch. \n",
        "\n",
        "The following is an example loading a pretrained model."
      ]
    },
    {
      "cell_type": "code",
      "metadata": {
        "id": "HxG4_69EDEWn",
        "colab_type": "code",
        "outputId": "c0d465a5-8af5-4c43-ebaa-ab0d0bd7e56d",
        "colab": {
          "base_uri": "https://localhost:8080/",
          "height": 618
        }
      },
      "source": [
        "from keras.applications import VGG16\n",
        "from keras import models\n",
        "from keras import layers\n",
        "from keras import optimizers\n",
        "\n",
        "#Load the VGG model\n",
        "image_size = 32\n",
        "vgg_conv = VGG16(weights='imagenet', include_top=False, input_shape=(image_size, image_size, 3))\n",
        "\n",
        "# Freeze the layers except the last 4 layers\n",
        "for layer in vgg_conv.layers[:-4]:\n",
        "    layer.trainable = False\n",
        " \n",
        "# Check the trainable status of the individual layers\n",
        "for layer in vgg_conv.layers:\n",
        "    print(layer, layer.trainable)\n",
        " \n",
        "# Create the model\n",
        "model = models.Sequential()\n",
        " \n",
        "# Add the vgg convolutional base model\n",
        "model.add(vgg_conv)\n",
        " \n",
        "# Add new layers\n",
        "model.add(layers.Flatten())\n",
        "model.add(layers.Dense(1024, activation='relu'))\n",
        "model.add(layers.Dropout(0.5))\n",
        "model.add(layers.Dense(3, activation='softmax'))\n",
        " \n",
        "# Show a summary of the model. Check the number of trainable parameters\n",
        "model.summary()"
      ],
      "execution_count": 0,
      "outputs": [
        {
          "output_type": "stream",
          "text": [
            "<keras.engine.input_layer.InputLayer object at 0x7f57a0b1e470> False\n",
            "<keras.layers.convolutional.Conv2D object at 0x7f57a0b1e128> False\n",
            "<keras.layers.convolutional.Conv2D object at 0x7f57a0b1e278> False\n",
            "<keras.layers.pooling.MaxPooling2D object at 0x7f57a3c9c390> False\n",
            "<keras.layers.convolutional.Conv2D object at 0x7f579a0c4940> False\n",
            "<keras.layers.convolutional.Conv2D object at 0x7f579a0c4da0> False\n",
            "<keras.layers.pooling.MaxPooling2D object at 0x7f57a3e85dd8> False\n",
            "<keras.layers.convolutional.Conv2D object at 0x7f57a3e858d0> False\n",
            "<keras.layers.convolutional.Conv2D object at 0x7f579aaae2e8> False\n",
            "<keras.layers.convolutional.Conv2D object at 0x7f57a3d69b70> False\n",
            "<keras.layers.pooling.MaxPooling2D object at 0x7f57a3d69be0> False\n",
            "<keras.layers.convolutional.Conv2D object at 0x7f57a3d72940> False\n",
            "<keras.layers.convolutional.Conv2D object at 0x7f57a3d72eb8> False\n",
            "<keras.layers.convolutional.Conv2D object at 0x7f579d051b38> False\n",
            "<keras.layers.pooling.MaxPooling2D object at 0x7f579eadac88> False\n",
            "<keras.layers.convolutional.Conv2D object at 0x7f579eadabe0> True\n",
            "<keras.layers.convolutional.Conv2D object at 0x7f57a3ecc5c0> True\n",
            "<keras.layers.convolutional.Conv2D object at 0x7f57a3eccd68> True\n",
            "<keras.layers.pooling.MaxPooling2D object at 0x7f579be40358> True\n",
            "Model: \"sequential_3\"\n",
            "_________________________________________________________________\n",
            "Layer (type)                 Output Shape              Param #   \n",
            "=================================================================\n",
            "vgg16 (Model)                (None, 1, 1, 512)         14714688  \n",
            "_________________________________________________________________\n",
            "flatten_3 (Flatten)          (None, 512)               0         \n",
            "_________________________________________________________________\n",
            "dense_5 (Dense)              (None, 1024)              525312    \n",
            "_________________________________________________________________\n",
            "dropout_3 (Dropout)          (None, 1024)              0         \n",
            "_________________________________________________________________\n",
            "dense_6 (Dense)              (None, 3)                 3075      \n",
            "=================================================================\n",
            "Total params: 15,243,075\n",
            "Trainable params: 7,607,811\n",
            "Non-trainable params: 7,635,264\n",
            "_________________________________________________________________\n"
          ],
          "name": "stdout"
        }
      ]
    }
  ]
}